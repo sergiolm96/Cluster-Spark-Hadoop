{
 "cells": [
  {
   "cell_type": "code",
   "execution_count": 1,
   "id": "47b9d875-586e-4532-b35b-b1011c596dc4",
   "metadata": {},
   "outputs": [],
   "source": [
    "from pyspark.sql import SparkSession\n",
    "from pyspark.sql.functions import regexp_extract, to_timestamp, hour, col\n",
    "import os"
   ]
  },
  {
   "cell_type": "code",
   "execution_count": 2,
   "id": "55fa647e-0486-489e-b8d9-453dd9566cfb",
   "metadata": {},
   "outputs": [],
   "source": [
    "spark = SparkSession.builder \\\n",
    "       .appName(\"Log Analyzer\") \\\n",
    "       .master(\"local[*]\") \\\n",
    "       .getOrCreate()"
   ]
  },
  {
   "cell_type": "code",
   "execution_count": 3,
   "id": "3fc4bca0-4d07-440c-a6f7-39b970164804",
   "metadata": {
    "editable": true,
    "slideshow": {
     "slide_type": ""
    },
    "tags": []
   },
   "outputs": [
    {
     "name": "stdout",
     "output_type": "stream",
     "text": [
      "+--------------------------------------------------------------------------------------+\n",
      "|value                                                                                 |\n",
      "+--------------------------------------------------------------------------------------+\n",
      "|127.0.0.1 - - [15/Apr/2025:13:45:23 +0000] \"GET /index.html HTTP/1.1\" 200 1024        |\n",
      "|192.168.1.10 - - [15/Apr/2025:13:45:45 +0000] \"POST /api/login HTTP/1.1\" 302 512      |\n",
      "|203.0.113.5 - - [15/Apr/2025:13:46:01 +0000] \"GET /dashboard HTTP/1.1\" 200 2048       |\n",
      "|198.51.100.23 - - [15/Apr/2025:13:46:15 +0000] \"GET /reports/monthly HTTP/1.1\" 404 256|\n",
      "|172.16.0.2 - - [15/Apr/2025:13:47:05 +0000] \"DELETE /api/user/123 HTTP/1.1\" 403 128   |\n",
      "+--------------------------------------------------------------------------------------+\n",
      "only showing top 5 rows\n",
      "\n"
     ]
    }
   ],
   "source": [
    "logs_path = os.path.join(\"hdfs://hadoop-namenode:9000/logs/input/access.log\")\n",
    "raw_logs = spark.read.text(logs_path)\n",
    "raw_logs.show(5, truncate=False)"
   ]
  },
  {
   "cell_type": "code",
   "execution_count": 4,
   "id": "3706b5db-99e7-4c6e-a3c4-b36cda0fdb86",
   "metadata": {},
   "outputs": [],
   "source": [
    "log_pattern = r'^(\\S+) - - \\[(.*?)\\] \"(GET|POST|PUT|DELETE) (\\S+) HTTP/\\d.\\d\" (\\d{3}) \\d+$'\n",
    "\n",
    "parsed_logs = raw_logs.withColumn(\"ip\", regexp_extract(\"value\", log_pattern, 1)) \\\n",
    "                      .withColumn(\"timestamp\", regexp_extract(\"value\", log_pattern, 2)) \\\n",
    "                      .withColumn(\"method\", regexp_extract(\"value\", log_pattern, 3)) \\\n",
    "                      .withColumn(\"url\", regexp_extract(\"value\", log_pattern, 4)) \\\n",
    "                      .withColumn(\"status_code\", regexp_extract(\"value\", log_pattern, 5).cast(\"int\"))\n",
    "\n",
    "clean_logs = parsed_logs.withColumn(\"datetime\", to_timestamp(\"timestamp\", \"dd/MMM/yyyy:HH:mm:ss Z\")) \\\n",
    "                        .withColumn(\"hour\", hour(\"datetime\")) \n"
   ]
  },
  {
   "cell_type": "code",
   "execution_count": 5,
   "id": "8e787dfd-d91e-4a17-ab49-e4d54291cab6",
   "metadata": {},
   "outputs": [],
   "source": [
    "request_by_hour = clean_logs.groupby(\"hour\").count().orderBy(\"count\")\n",
    "top_ips = clean_logs.groupby(\"ip\").count().orderBy(col(\"count\").desc()).limit(10)\n",
    "errors = clean_logs.filter((col(\"status_code\") >= 400) & (col(\"status_code\") < 600)) \\\n",
    "                   .groupBy(\"status_code\").count().orderBy(\"status_code\")\n"
   ]
  },
  {
   "cell_type": "code",
   "execution_count": 6,
   "id": "fc257ec0-fc1f-4c4d-9fe1-1ec44708137a",
   "metadata": {},
   "outputs": [
    {
     "name": "stdout",
     "output_type": "stream",
     "text": [
      "+----+-----+\n",
      "|hour|count|\n",
      "+----+-----+\n",
      "|   0|    8|\n",
      "|  20|   10|\n",
      "|   6|   11|\n",
      "|  12|   12|\n",
      "|  16|   12|\n",
      "|  23|   12|\n",
      "|  17|   13|\n",
      "|   4|   13|\n",
      "|   2|   13|\n",
      "|  22|   14|\n",
      "|   1|   14|\n",
      "|   7|   14|\n",
      "|  18|   14|\n",
      "|   3|   15|\n",
      "|   8|   15|\n",
      "|  10|   15|\n",
      "|  21|   15|\n",
      "|  11|   16|\n",
      "|  14|   16|\n",
      "|   9|   17|\n",
      "+----+-----+\n",
      "only showing top 20 rows\n",
      "\n",
      "+--------------+-----+\n",
      "|            ip|count|\n",
      "+--------------+-----+\n",
      "|  192.168.3.21|   10|\n",
      "|  192.168.4.25|    8|\n",
      "|      10.1.2.3|    8|\n",
      "| 198.51.100.23|    6|\n",
      "|  91.189.92.38|    6|\n",
      "|   203.0.113.5|    6|\n",
      "|      10.2.3.4|    6|\n",
      "|  192.168.1.10|    6|\n",
      "|    172.16.0.2|    6|\n",
      "|104.244.42.129|    6|\n",
      "+--------------+-----+\n",
      "\n",
      "+-----------+-----+\n",
      "|status_code|count|\n",
      "+-----------+-----+\n",
      "|        400|    4|\n",
      "|        401|   11|\n",
      "|        403|   16|\n",
      "|        404|   12|\n",
      "|        500|    5|\n",
      "+-----------+-----+\n",
      "\n"
     ]
    }
   ],
   "source": [
    "request_by_hour.show()\n",
    "top_ips.show()\n",
    "errors.show()"
   ]
  },
  {
   "cell_type": "code",
   "execution_count": 7,
   "id": "d1c893f4-4584-4525-b5a5-156f7af15428",
   "metadata": {},
   "outputs": [],
   "source": [
    "errors.write.format(\"csv\").save(\"hdfs://hadoop-namenode:9000/logs/output/errors.csv\")\n",
    "top_ips.write.format(\"csv\").save(\"hdfs://hadoop-namenode:9000/logs/output/top_ips.csv\")\n",
    "request_by_hour.write.format(\"csv\").save(\"hdfs://hadoop-namenode:9000/logs/output/requests_by_hour.csv\")\n"
   ]
  },
  {
   "cell_type": "code",
   "execution_count": null,
   "id": "4e5311db-cad0-4c25-8d52-5eb493540e15",
   "metadata": {},
   "outputs": [],
   "source": []
  },
  {
   "cell_type": "code",
   "execution_count": null,
   "id": "c44e3138-9794-4968-bcf5-d38d9127634d",
   "metadata": {},
   "outputs": [],
   "source": []
  }
 ],
 "metadata": {
  "kernelspec": {
   "display_name": "Python 3 (ipykernel)",
   "language": "python",
   "name": "python3"
  },
  "language_info": {
   "codemirror_mode": {
    "name": "ipython",
    "version": 3
   },
   "file_extension": ".py",
   "mimetype": "text/x-python",
   "name": "python",
   "nbconvert_exporter": "python",
   "pygments_lexer": "ipython3",
   "version": "3.11.6"
  }
 },
 "nbformat": 4,
 "nbformat_minor": 5
}
